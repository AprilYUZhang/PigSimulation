{
 "cells": [
  {
   "cell_type": "code",
   "execution_count": 4,
   "id": "799ad996",
   "metadata": {},
   "outputs": [],
   "source": [
    "import numpy as np\n",
    "import pandas as pd"
   ]
  },
  {
   "cell_type": "code",
   "execution_count": 468,
   "id": "dccef2d3",
   "metadata": {},
   "outputs": [
    {
     "name": "stderr",
     "output_type": "stream",
     "text": [
      "/var/folders/sq/vc6_dvd116b6pt9nrzq_m1100000gr/T/ipykernel_39204/1573641335.py:2: DtypeWarning: Columns (5) have mixed types. Specify dtype option on import or set low_memory=False.\n",
      "  df=pd.read_csv(\"arrays/SNPchimp_result_2583590585.csv\")\n"
     ]
    }
   ],
   "source": [
    "# SNPchimp SNP information includes all of array type\n",
    "df=pd.read_csv(\"arrays/SNPchimp_result_2583590585.csv\")"
   ]
  },
  {
   "cell_type": "code",
   "execution_count": 469,
   "id": "38c116e6",
   "metadata": {},
   "outputs": [
    {
     "data": {
      "text/html": [
       "<div>\n",
       "<style scoped>\n",
       "    .dataframe tbody tr th:only-of-type {\n",
       "        vertical-align: middle;\n",
       "    }\n",
       "\n",
       "    .dataframe tbody tr th {\n",
       "        vertical-align: top;\n",
       "    }\n",
       "\n",
       "    .dataframe thead th {\n",
       "        text-align: right;\n",
       "    }\n",
       "</style>\n",
       "<table border=\"1\" class=\"dataframe\">\n",
       "  <thead>\n",
       "    <tr style=\"text-align: right;\">\n",
       "      <th></th>\n",
       "      <th>chip_name</th>\n",
       "      <th>rs</th>\n",
       "      <th>Alleles_A_B_FORWARD</th>\n",
       "      <th>Alleles_A_B_TOP</th>\n",
       "      <th>Alleles_A_B_Affymetrix</th>\n",
       "      <th>chromosome</th>\n",
       "      <th>position</th>\n",
       "      <th>SNP_name</th>\n",
       "    </tr>\n",
       "  </thead>\n",
       "  <tbody>\n",
       "    <tr>\n",
       "      <th>0</th>\n",
       "      <td>Pig_Illu60Kv1</td>\n",
       "      <td>rs10719839</td>\n",
       "      <td>T/C</td>\n",
       "      <td>A/G</td>\n",
       "      <td>0/0</td>\n",
       "      <td>1</td>\n",
       "      <td>105951016</td>\n",
       "      <td>ALGA0005071</td>\n",
       "    </tr>\n",
       "    <tr>\n",
       "      <th>1</th>\n",
       "      <td>Pig_Illu60Kv1</td>\n",
       "      <td>rs45430995</td>\n",
       "      <td>A/G</td>\n",
       "      <td>A/G</td>\n",
       "      <td>0/0</td>\n",
       "      <td>1</td>\n",
       "      <td>286777913</td>\n",
       "      <td>ASGA0102985</td>\n",
       "    </tr>\n",
       "    <tr>\n",
       "      <th>2</th>\n",
       "      <td>Pig_Illu60Kv1</td>\n",
       "      <td>rs45435103</td>\n",
       "      <td>A/G</td>\n",
       "      <td>A/G</td>\n",
       "      <td>0/0</td>\n",
       "      <td>1</td>\n",
       "      <td>134715184</td>\n",
       "      <td>CAMB0000069</td>\n",
       "    </tr>\n",
       "    <tr>\n",
       "      <th>3</th>\n",
       "      <td>Pig_Illu60Kv1</td>\n",
       "      <td>rs45435473</td>\n",
       "      <td>T/C</td>\n",
       "      <td>A/G</td>\n",
       "      <td>0/0</td>\n",
       "      <td>1</td>\n",
       "      <td>286785390</td>\n",
       "      <td>ASGA0007005</td>\n",
       "    </tr>\n",
       "    <tr>\n",
       "      <th>4</th>\n",
       "      <td>Pig_Illu60Kv1</td>\n",
       "      <td>rs55618047</td>\n",
       "      <td>A/G</td>\n",
       "      <td>A/G</td>\n",
       "      <td>0/0</td>\n",
       "      <td>1</td>\n",
       "      <td>28424681</td>\n",
       "      <td>DIAS0004367</td>\n",
       "    </tr>\n",
       "    <tr>\n",
       "      <th>...</th>\n",
       "      <td>...</td>\n",
       "      <td>...</td>\n",
       "      <td>...</td>\n",
       "      <td>...</td>\n",
       "      <td>...</td>\n",
       "      <td>...</td>\n",
       "      <td>...</td>\n",
       "      <td>...</td>\n",
       "    </tr>\n",
       "    <tr>\n",
       "      <th>861045</th>\n",
       "      <td>Pig_Affy650k</td>\n",
       "      <td>NaN</td>\n",
       "      <td>0/0</td>\n",
       "      <td>0/0</td>\n",
       "      <td>A/G</td>\n",
       "      <td>99</td>\n",
       "      <td>0</td>\n",
       "      <td>AX-116661492</td>\n",
       "    </tr>\n",
       "    <tr>\n",
       "      <th>861046</th>\n",
       "      <td>Pig_Affy650k</td>\n",
       "      <td>NaN</td>\n",
       "      <td>0/0</td>\n",
       "      <td>0/0</td>\n",
       "      <td>A/C</td>\n",
       "      <td>99</td>\n",
       "      <td>0</td>\n",
       "      <td>AX-116661470</td>\n",
       "    </tr>\n",
       "    <tr>\n",
       "      <th>861047</th>\n",
       "      <td>Pig_Affy650k</td>\n",
       "      <td>NaN</td>\n",
       "      <td>0/0</td>\n",
       "      <td>0/0</td>\n",
       "      <td>A/G</td>\n",
       "      <td>99</td>\n",
       "      <td>0</td>\n",
       "      <td>AX-116661450</td>\n",
       "    </tr>\n",
       "    <tr>\n",
       "      <th>861048</th>\n",
       "      <td>Pig_Affy650k</td>\n",
       "      <td>NaN</td>\n",
       "      <td>0/0</td>\n",
       "      <td>0/0</td>\n",
       "      <td>A/G</td>\n",
       "      <td>99</td>\n",
       "      <td>0</td>\n",
       "      <td>AX-116661476</td>\n",
       "    </tr>\n",
       "    <tr>\n",
       "      <th>861049</th>\n",
       "      <td>Pig_Affy650k</td>\n",
       "      <td>NaN</td>\n",
       "      <td>0/0</td>\n",
       "      <td>0/0</td>\n",
       "      <td>A/G</td>\n",
       "      <td>99</td>\n",
       "      <td>0</td>\n",
       "      <td>AX-116661475</td>\n",
       "    </tr>\n",
       "  </tbody>\n",
       "</table>\n",
       "<p>861050 rows × 8 columns</p>\n",
       "</div>"
      ],
      "text/plain": [
       "            chip_name          rs Alleles_A_B_FORWARD Alleles_A_B_TOP  \\\n",
       "0       Pig_Illu60Kv1  rs10719839                 T/C             A/G   \n",
       "1       Pig_Illu60Kv1  rs45430995                 A/G             A/G   \n",
       "2       Pig_Illu60Kv1  rs45435103                 A/G             A/G   \n",
       "3       Pig_Illu60Kv1  rs45435473                 T/C             A/G   \n",
       "4       Pig_Illu60Kv1  rs55618047                 A/G             A/G   \n",
       "...               ...         ...                 ...             ...   \n",
       "861045   Pig_Affy650k         NaN                 0/0             0/0   \n",
       "861046   Pig_Affy650k         NaN                 0/0             0/0   \n",
       "861047   Pig_Affy650k         NaN                 0/0             0/0   \n",
       "861048   Pig_Affy650k         NaN                 0/0             0/0   \n",
       "861049   Pig_Affy650k         NaN                 0/0             0/0   \n",
       "\n",
       "       Alleles_A_B_Affymetrix chromosome   position      SNP_name  \n",
       "0                         0/0          1  105951016   ALGA0005071  \n",
       "1                         0/0          1  286777913   ASGA0102985  \n",
       "2                         0/0          1  134715184   CAMB0000069  \n",
       "3                         0/0          1  286785390   ASGA0007005  \n",
       "4                         0/0          1   28424681   DIAS0004367  \n",
       "...                       ...        ...        ...           ...  \n",
       "861045                    A/G         99          0  AX-116661492  \n",
       "861046                    A/C         99          0  AX-116661470  \n",
       "861047                    A/G         99          0  AX-116661450  \n",
       "861048                    A/G         99          0  AX-116661476  \n",
       "861049                    A/G         99          0  AX-116661475  \n",
       "\n",
       "[861050 rows x 8 columns]"
      ]
     },
     "execution_count": 469,
     "metadata": {},
     "output_type": "execute_result"
    }
   ],
   "source": [
    "df"
   ]
  },
  {
   "cell_type": "markdown",
   "id": "eb676f6f",
   "metadata": {},
   "source": [
    "# Check which version the chip is\n",
    "1. The meta information of some publish data is not complete, for example show the chip name but no chip version. "
   ]
  },
  {
   "cell_type": "code",
   "execution_count": 470,
   "id": "bad100e3",
   "metadata": {},
   "outputs": [],
   "source": [
    "# based on the SNP-name"
   ]
  },
  {
   "cell_type": "code",
   "execution_count": 471,
   "id": "cfb73179",
   "metadata": {},
   "outputs": [],
   "source": [
    "uni_chip=df[\"chip_name\"].unique()"
   ]
  },
  {
   "cell_type": "code",
   "execution_count": 472,
   "id": "f7316aad",
   "metadata": {},
   "outputs": [
    {
     "name": "stdout",
     "output_type": "stream",
     "text": [
      "All SNPs in dryad05qfttf0w are included in Pig_Illu60Kv2\n",
      "All SNPs in dryad905qfttnc are included in Pig_Illu60Kv1\n",
      "All SNPs in dryad905qfttnc are included in Pig_Illu60Kv2\n",
      "All SNPs in dryadv6f1g_DG_Boar are included in Pig_Illu60Kv1\n",
      "All SNPs in dryadv6f1g_DG_Pig are included in Pig_Illu60Kv1\n",
      "All SNPs in figshare18318584 are included in Pig_Illu60Kv2\n",
      "All SNPs in dryad53j31 are included in Pig_Illu60Kv1\n",
      "All SNPs in dryad8bf48 are included in Pig_Illu60Kv1\n",
      "All SNPs in dryad8bf48 are included in Pig_Illu60Kv2\n"
     ]
    }
   ],
   "source": [
    "corresp={}# key is file name, value is chip name\n",
    "for j in ['dryad05qfttf0w', 'dryad30tk6', \n",
    "       'dryad905qfttnc', 'dryadv6f1g_DG_Boar', 'dryadv6f1g_DG_Pig',\n",
    "       'figshare18318584','dryad53j31', 'dryad8bf48',]:\n",
    "    bim=pd.read_csv(f'./arrays/{j}.bim',sep=\"\\t\",header=None)\n",
    "    bim_SNP=bim[1]\n",
    "    for i in uni_chip:\n",
    "        chip_set=df.loc[df[\"chip_name\"]==i,\"SNP_name\"]\n",
    "        # Check if all values of bim_SNP are included in chip_set\n",
    "        if set(bim_SNP).issubset(set(chip_set)):\n",
    "            corresp.update({j:i})\n",
    "            print(f\"All SNPs in {j} are included in {i}\")"
   ]
  },
  {
   "cell_type": "code",
   "execution_count": 473,
   "id": "c8779d90",
   "metadata": {},
   "outputs": [],
   "source": [
    "# The array version of dryad30tk6 is not clear, temporarily as Pig_Illu60Kv1\n",
    "corresp[\"dryad30tk6\"]=\"Pig_Illu60Kv1\""
   ]
  },
  {
   "cell_type": "markdown",
   "id": "bb0ea954",
   "metadata": {},
   "source": [
    "# Correct the position"
   ]
  },
  {
   "cell_type": "code",
   "execution_count": 474,
   "id": "0d08d6cd",
   "metadata": {},
   "outputs": [],
   "source": [
    "# v2 [dryad05qfttf0w,dryad30tk6,dryad905qfttnc,figshare18318584,\n",
    "# v1 [dryad53j31,dryad8bf48,]\n",
    "# intersection: dryadv6f1g_DG_Boar,dryadv6f1g_DG_Pig,figshare21971204CFJY_DD_1518,figshare21971204CFJY_LL_1702,figshare21971204CFJY_YY_4789,Z3816619\n",
    "# rm chips that not meet requirement: [dryadsd784,dryad4gh70EHL_60K_gens,dryad4gh70Laiwu_60K_gens,dryad4gh70DLY_60K_gens]"
   ]
  },
  {
   "cell_type": "code",
   "execution_count": 475,
   "id": "acaff99c",
   "metadata": {},
   "outputs": [],
   "source": [
    "for i in ['dryad05qfttf0w', 'dryad30tk6', \n",
    "       'dryad905qfttnc', 'dryadv6f1g_DG_Boar', 'dryadv6f1g_DG_Pig',\n",
    "       'figshare18318584','dryad53j31', 'dryad8bf48',]:\n",
    "    \n",
    "    df1= df.loc[df[\"chip_name\"]==corresp[i],:]\n",
    "    df1.loc[df1[\"chromosome\"]==\"99\",\"chromosome\"]=\"MT\"\n",
    "    bim=pd.read_csv(f'./arrays/{i}.bim',sep=\"\\t\",header=None)\n",
    "    bim_new=pd.merge(bim,df1,left_on=1,right_on=\"SNP_name\",how=\"left\")[[\"chromosome\",1,2,\"position\",4,5]]\n",
    "    bim_new.to_csv(f'./arrays/{i}_new.bim',header=False,index=False,sep=\"\\t\")"
   ]
  },
  {
   "cell_type": "markdown",
   "id": "a4258c6b",
   "metadata": {},
   "source": [
    "# Check the allele format"
   ]
  },
  {
   "cell_type": "code",
   "execution_count": 476,
   "id": "9d0592da",
   "metadata": {},
   "outputs": [
    {
     "data": {
      "text/plain": [
       "('dryad05qfttf0w', 'Pig_Illu60Kv2')"
      ]
     },
     "execution_count": 476,
     "metadata": {},
     "output_type": "execute_result"
    }
   ],
   "source": [
    "'dryad05qfttf0w',corresp['dryad05qfttf0w']"
   ]
  },
  {
   "cell_type": "code",
   "execution_count": 477,
   "id": "74869099",
   "metadata": {},
   "outputs": [],
   "source": [
    "def fun_check_allele(x,column_name):\n",
    "    if f\"{x[4]}/{x[5]}\"==x[column_name]:\n",
    "        return 1  \n",
    "    elif f\"{x[5]}/{x[4]}\"==x[column_name]:\n",
    "        return 1\n",
    "    else:\n",
    "        return 0\n"
   ]
  },
  {
   "cell_type": "code",
   "execution_count": 478,
   "id": "5a3a7f2c",
   "metadata": {},
   "outputs": [],
   "source": [
    "def check_format(file_prefix,bim,df):\n",
    "    df1=df.loc[df[\"chip_name\"]==corresp[file_prefix],:]\n",
    "    bim_df1=pd.merge(bim,df1,left_on=1,right_on=\"SNP_name\",how=\"left\")\n",
    "    bim_df1[\"compare_Alleles_A_B_FORWARD\"]=bim_df1.apply(lambda x: fun_check_allele(x, \"Alleles_A_B_FORWARD\"),axis=1)\n",
    "    bim_df1[\"compare_Alleles_A_B_TOP\"]=bim_df1.apply(lambda x: fun_check_allele(x, \"Alleles_A_B_TOP\"),axis=1)\n",
    "    bim_df1[\"compare_Alleles_A_B_Affymetrix\"]=bim_df1.apply(lambda x: fun_check_allele(x, \"Alleles_A_B_Affymetrix\"),axis=1)\n",
    "    dic_number={\"Alleles_A_B_FORWARD\":bim_df1[\"compare_Alleles_A_B_FORWARD\"].sum(),\n",
    "        \"Alleles_A_B_TOP\":bim_df1[\"compare_Alleles_A_B_TOP\"].sum(),\n",
    "        \"Alleles_A_B_Affymetrix\":bim_df1[\"compare_Alleles_A_B_Affymetrix\"].sum()}\n",
    "    for i,j in dic_number.items():\n",
    "        print(file_prefix,f\": the number of SNPs fit {i} formate {j}\")\n",
    "    return max(dic_number.items(), key=lambda x: x[1])"
   ]
  },
  {
   "cell_type": "code",
   "execution_count": 479,
   "id": "26f0bc16",
   "metadata": {},
   "outputs": [
    {
     "name": "stdout",
     "output_type": "stream",
     "text": [
      "dryad05qfttf0w : the number of SNPs fit Alleles_A_B_FORWARD formate 49384\n",
      "dryad05qfttf0w : the number of SNPs fit Alleles_A_B_TOP formate 25672\n",
      "dryad05qfttf0w : the number of SNPs fit Alleles_A_B_Affymetrix formate 1844\n",
      "dryad30tk6 : the number of SNPs fit Alleles_A_B_FORWARD formate 58514\n",
      "dryad30tk6 : the number of SNPs fit Alleles_A_B_TOP formate 31772\n",
      "dryad30tk6 : the number of SNPs fit Alleles_A_B_Affymetrix formate 0\n",
      "dryad905qfttnc : the number of SNPs fit Alleles_A_B_FORWARD formate 24903\n",
      "dryad905qfttnc : the number of SNPs fit Alleles_A_B_TOP formate 47868\n",
      "dryad905qfttnc : the number of SNPs fit Alleles_A_B_Affymetrix formate 0\n",
      "dryadv6f1g_DG_Boar : the number of SNPs fit Alleles_A_B_FORWARD formate 30674\n",
      "dryadv6f1g_DG_Boar : the number of SNPs fit Alleles_A_B_TOP formate 15904\n",
      "dryadv6f1g_DG_Boar : the number of SNPs fit Alleles_A_B_Affymetrix formate 0\n",
      "dryadv6f1g_DG_Pig : the number of SNPs fit Alleles_A_B_FORWARD formate 43218\n",
      "dryadv6f1g_DG_Pig : the number of SNPs fit Alleles_A_B_TOP formate 22452\n",
      "dryadv6f1g_DG_Pig : the number of SNPs fit Alleles_A_B_Affymetrix formate 0\n",
      "figshare18318584 : the number of SNPs fit Alleles_A_B_FORWARD formate 26705\n",
      "figshare18318584 : the number of SNPs fit Alleles_A_B_TOP formate 50936\n",
      "figshare18318584 : the number of SNPs fit Alleles_A_B_Affymetrix formate 2246\n",
      "dryad53j31 : the number of SNPs fit Alleles_A_B_FORWARD formate 0\n",
      "dryad53j31 : the number of SNPs fit Alleles_A_B_TOP formate 0\n",
      "dryad53j31 : the number of SNPs fit Alleles_A_B_Affymetrix formate 0\n",
      "dryad8bf48 : the number of SNPs fit Alleles_A_B_FORWARD formate 47287\n",
      "dryad8bf48 : the number of SNPs fit Alleles_A_B_TOP formate 24636\n",
      "dryad8bf48 : the number of SNPs fit Alleles_A_B_Affymetrix formate 0\n"
     ]
    }
   ],
   "source": [
    "dic_file_format={}# key: file name, value:allele format and number of insection\n",
    "for i in ['dryad05qfttf0w', 'dryad30tk6', \n",
    "       'dryad905qfttnc', 'dryadv6f1g_DG_Boar', 'dryadv6f1g_DG_Pig',\n",
    "       'figshare18318584','dryad53j31', 'dryad8bf48',]:\n",
    "    bim=pd.read_csv(f'./arrays/{i}.bim',sep=\"\\t\",header=None)\n",
    "    a=check_format(i,bim,df)\n",
    "    dic_file_format[i]=a"
   ]
  },
  {
   "cell_type": "code",
   "execution_count": 480,
   "id": "0a1133cc",
   "metadata": {},
   "outputs": [
    {
     "data": {
      "text/plain": [
       "{'dryad05qfttf0w': ('Alleles_A_B_FORWARD', 49384),\n",
       " 'dryad30tk6': ('Alleles_A_B_FORWARD', 58514),\n",
       " 'dryad905qfttnc': ('Alleles_A_B_TOP', 47868),\n",
       " 'dryadv6f1g_DG_Boar': ('Alleles_A_B_FORWARD', 30674),\n",
       " 'dryadv6f1g_DG_Pig': ('Alleles_A_B_FORWARD', 43218),\n",
       " 'figshare18318584': ('Alleles_A_B_TOP', 50936),\n",
       " 'dryad53j31': ('Alleles_A_B_FORWARD', 0),\n",
       " 'dryad8bf48': ('Alleles_A_B_FORWARD', 47287)}"
      ]
     },
     "execution_count": 480,
     "metadata": {},
     "output_type": "execute_result"
    }
   ],
   "source": [
    "dic_file_format"
   ]
  },
  {
   "cell_type": "markdown",
   "id": "75980527",
   "metadata": {},
   "source": [
    "# dryad53j31 allele format is special\n",
    "the coding is 1,2,3,4, should correspond to ACGT"
   ]
  },
  {
   "cell_type": "code",
   "execution_count": 481,
   "id": "6f7666ad",
   "metadata": {},
   "outputs": [],
   "source": [
    "bim=pd.read_csv(f'./arrays/dryad53j31.bim',sep=\"\\t\",header=None)"
   ]
  },
  {
   "cell_type": "code",
   "execution_count": 482,
   "id": "963a3306",
   "metadata": {},
   "outputs": [],
   "source": [
    "bim[4]=bim[4].replace(1,\"A\")\n",
    "bim[4]=bim[4].replace(2,\"C\")\n",
    "bim[4]=bim[4].replace(3,\"G\")\n",
    "bim[4]=bim[4].replace(4,\"T\")"
   ]
  },
  {
   "cell_type": "code",
   "execution_count": 483,
   "id": "e94d577a",
   "metadata": {},
   "outputs": [],
   "source": [
    "bim[5]=bim[5].replace(1,\"A\")\n",
    "bim[5]=bim[5].replace(2,\"C\")\n",
    "bim[5]=bim[5].replace(3,\"G\")\n",
    "bim[5]=bim[5].replace(4,\"T\")"
   ]
  },
  {
   "cell_type": "code",
   "execution_count": 484,
   "id": "49a830eb",
   "metadata": {},
   "outputs": [],
   "source": [
    "bim.to_csv(f'./arrays/dryad53j31_new.bim',header=False,index=False,sep=\"\\t\")"
   ]
  },
  {
   "cell_type": "code",
   "execution_count": 485,
   "id": "577fa536",
   "metadata": {},
   "outputs": [
    {
     "name": "stdout",
     "output_type": "stream",
     "text": [
      "dryad53j31 : the number of SNPs fit Alleles_A_B_FORWARD formate 27506\n",
      "dryad53j31 : the number of SNPs fit Alleles_A_B_TOP formate 52556\n",
      "dryad53j31 : the number of SNPs fit Alleles_A_B_Affymetrix formate 0\n"
     ]
    }
   ],
   "source": [
    "df1=df.loc[df[\"chip_name\"]==corresp['dryad53j31'],:]\n",
    "bim_df1=pd.merge(bim,df1,left_on=1,right_on=\"SNP_name\",how=\"left\")\n",
    "bim_df1[\"compare_Alleles_A_B_FORWARD\"]=bim_df1.apply(lambda x: fun_check_allele(x, \"Alleles_A_B_FORWARD\"),axis=1)\n",
    "bim_df1[\"compare_Alleles_A_B_TOP\"]=bim_df1.apply(lambda x: fun_check_allele(x, \"Alleles_A_B_TOP\"),axis=1)\n",
    "bim_df1[\"compare_Alleles_A_B_Affymetrix\"]=bim_df1.apply(lambda x: fun_check_allele(x, \"Alleles_A_B_Affymetrix\"),axis=1)\n",
    "print(\"dryad53j31\",\": the number of SNPs fit Alleles_A_B_FORWARD formate\",bim_df1[\"compare_Alleles_A_B_FORWARD\"].sum())\n",
    "print(\"dryad53j31\",\": the number of SNPs fit Alleles_A_B_TOP formate\",bim_df1[\"compare_Alleles_A_B_TOP\"].sum())\n",
    "print(\"dryad53j31\",\": the number of SNPs fit Alleles_A_B_Affymetrix formate\",bim_df1[\"compare_Alleles_A_B_Affymetrix\"].sum())\n"
   ]
  },
  {
   "cell_type": "code",
   "execution_count": 486,
   "id": "dc812565",
   "metadata": {},
   "outputs": [],
   "source": [
    "dic_file_format[\"dryad53j31\"]=('Alleles_A_B_TOP', 52556)"
   ]
  },
  {
   "cell_type": "markdown",
   "id": "047a0062",
   "metadata": {},
   "source": [
    "# Check whether different format flip the allele A and B\n",
    "This step is for checking whether the two versin's SNP ref and alt allele is consistent."
   ]
  },
  {
   "cell_type": "code",
   "execution_count": 487,
   "id": "ad24f45a",
   "metadata": {},
   "outputs": [
    {
     "data": {
      "text/plain": [
       "0         2\n",
       "1         1\n",
       "2         1\n",
       "3         2\n",
       "4         1\n",
       "         ..\n",
       "860776    2\n",
       "860777    2\n",
       "860778    1\n",
       "860779    2\n",
       "860780    1\n",
       "Length: 62163, dtype: int64"
      ]
     },
     "execution_count": 487,
     "metadata": {},
     "output_type": "execute_result"
    }
   ],
   "source": [
    "def fun_check(x,c1,c2):\n",
    "    dic={\"A\":\"T\",\"T\":\"A\",\"C\":\"G\",\"G\":\"C\"}\n",
    "    a,b=x[c1].split(\"/\")\n",
    "    if f\"{a}/{b}\"==x[c2]:\n",
    "        return 1  \n",
    "    elif f\"{b}/{a}\"==x[c2]:\n",
    "        return 1\n",
    "    elif f\"{dic[a]}/{dic[b]}\"==x[c2]:\n",
    "        return 2\n",
    "    elif f\"{dic[b]}/{dic[a]}\"==x[c2]:\n",
    "        return 2\n",
    "    else:\n",
    "        return 0\n",
    "df1.apply(lambda x: fun_check(x, \"Alleles_A_B_FORWARD\",\"Alleles_A_B_TOP\"),axis=1)"
   ]
  },
  {
   "cell_type": "code",
   "execution_count": 488,
   "id": "06ed21a5",
   "metadata": {},
   "outputs": [
    {
     "data": {
      "text/plain": [
       "Counter({1: 32450, 2: 29713})"
      ]
     },
     "execution_count": 488,
     "metadata": {},
     "output_type": "execute_result"
    }
   ],
   "source": [
    "from collections import Counter\n",
    "Counter(df1.apply(lambda x: fun_check(x, \"Alleles_A_B_FORWARD\",\"Alleles_A_B_TOP\"),axis=1))"
   ]
  },
  {
   "cell_type": "code",
   "execution_count": 489,
   "id": "d78d0641",
   "metadata": {},
   "outputs": [
    {
     "data": {
      "text/plain": [
       "Counter({0: 62163})"
      ]
     },
     "execution_count": 489,
     "metadata": {},
     "output_type": "execute_result"
    }
   ],
   "source": [
    "Counter(df1.apply(lambda x: fun_check(x, \"Alleles_A_B_FORWARD\",\"Alleles_A_B_Affymetrix\"),axis=1))"
   ]
  },
  {
   "cell_type": "code",
   "execution_count": 490,
   "id": "5eafc705",
   "metadata": {},
   "outputs": [
    {
     "data": {
      "text/plain": [
       "Counter({0: 62163})"
      ]
     },
     "execution_count": 490,
     "metadata": {},
     "output_type": "execute_result"
    }
   ],
   "source": [
    "Counter(df1.apply(lambda x: fun_check(x, \"Alleles_A_B_TOP\",\"Alleles_A_B_Affymetrix\"),axis=1))"
   ]
  },
  {
   "cell_type": "markdown",
   "id": "a030d488",
   "metadata": {},
   "source": [
    "# Convert to consistent version"
   ]
  },
  {
   "cell_type": "code",
   "execution_count": 491,
   "id": "5fa40023",
   "metadata": {},
   "outputs": [],
   "source": [
    "# def fun_flip_allele(x,Input,Output):\n",
    "#     dic={\"A\":\"T\",\"T\":\"A\",\"C\":\"G\",\"G\":\"C\",\"0\":\"0\"}\n",
    "#     if f\"{dic[x[4]]}/{dic[x[5]]}\"==x[Output]:\n",
    "#         x[4]=dic[x[4]]\n",
    "#         x[5]=dic[x[5]]\n",
    "#     elif f\"{dic[x[5]]}/{dic[x[4]]}\"==x[Output]:\n",
    "#         x[4]=dic[x[4]]\n",
    "#         x[5]=dic[x[5]]\n",
    "#     else:\n",
    "#         pass\n",
    "#     return x"
   ]
  },
  {
   "cell_type": "code",
   "execution_count": 492,
   "id": "9e5cb69b",
   "metadata": {},
   "outputs": [],
   "source": [
    "def fun_flip_allele(x, Input, Output, missing = [\"0\", \"-\"]):\n",
    "    Input = x[Input].split(\"/\")\n",
    "    Output = x[Output].split(\"/\")\n",
    "\n",
    "    result = []\n",
    "\n",
    "    for allele in [x[4], x[5]]:\n",
    "\n",
    "        if allele in missing:\n",
    "            result.append(\"0\")\n",
    "\n",
    "        elif allele not in Input:\n",
    "            raise Exception(f\"Allele {allele} not in {Input}\")\n",
    "\n",
    "        else:\n",
    "            result.append(Output[Input.index(allele)])\n",
    "\n",
    "    x[4], x[5] = result\n",
    "\n",
    "    return x"
   ]
  },
  {
   "cell_type": "code",
   "execution_count": 493,
   "id": "1c5dc40d",
   "metadata": {},
   "outputs": [],
   "source": [
    "def convert(file,origin_format,output_format,SNPchiMp_table,bim):\n",
    "    df1=SNPchiMp_table.loc[SNPchiMp_table[\"chip_name\"]==corresp[file],:]\n",
    "    bim_df1=pd.merge(bim,df1,left_on=1,right_on=\"SNP_name\",how=\"left\")\n",
    "    bim_df1=bim_df1.apply(lambda x: fun_flip_allele(x,origin_format,output_format),axis=1)\n",
    "    bim_new=bim_df1[[0,1,2,3,4,5]]\n",
    "    a=check_format(file,bim_new,SNPchiMp_table)\n",
    "    print(a)\n",
    "    return bim_new"
   ]
  },
  {
   "cell_type": "code",
   "execution_count": 494,
   "id": "88be03a6",
   "metadata": {},
   "outputs": [
    {
     "data": {
      "text/plain": [
       "{'dryad05qfttf0w': ('Alleles_A_B_FORWARD', 49384),\n",
       " 'dryad30tk6': ('Alleles_A_B_FORWARD', 58514),\n",
       " 'dryad905qfttnc': ('Alleles_A_B_TOP', 47868),\n",
       " 'dryadv6f1g_DG_Boar': ('Alleles_A_B_FORWARD', 30674),\n",
       " 'dryadv6f1g_DG_Pig': ('Alleles_A_B_FORWARD', 43218),\n",
       " 'figshare18318584': ('Alleles_A_B_TOP', 50936),\n",
       " 'dryad53j31': ('Alleles_A_B_TOP', 52556),\n",
       " 'dryad8bf48': ('Alleles_A_B_FORWARD', 47287)}"
      ]
     },
     "execution_count": 494,
     "metadata": {},
     "output_type": "execute_result"
    }
   ],
   "source": [
    "dic_file_format"
   ]
  },
  {
   "cell_type": "code",
   "execution_count": 495,
   "id": "7db6d1bf",
   "metadata": {},
   "outputs": [
    {
     "name": "stdout",
     "output_type": "stream",
     "text": [
      "Finish converting\n",
      "dryad905qfttnc : the number of SNPs fit Alleles_A_B_FORWARD formate 47868\n",
      "dryad905qfttnc : the number of SNPs fit Alleles_A_B_TOP formate 24903\n",
      "dryad905qfttnc : the number of SNPs fit Alleles_A_B_Affymetrix formate 0\n",
      "('Alleles_A_B_FORWARD', 47868)\n",
      "Finish converting\n",
      "figshare18318584 : the number of SNPs fit Alleles_A_B_FORWARD formate 50936\n",
      "figshare18318584 : the number of SNPs fit Alleles_A_B_TOP formate 26705\n",
      "figshare18318584 : the number of SNPs fit Alleles_A_B_Affymetrix formate 2246\n",
      "('Alleles_A_B_FORWARD', 50936)\n",
      "Finish converting\n",
      "dryad53j31 : the number of SNPs fit Alleles_A_B_FORWARD formate 52556\n",
      "dryad53j31 : the number of SNPs fit Alleles_A_B_TOP formate 27506\n",
      "dryad53j31 : the number of SNPs fit Alleles_A_B_Affymetrix formate 0\n",
      "('Alleles_A_B_FORWARD', 52556)\n"
     ]
    }
   ],
   "source": [
    "Input_format='Alleles_A_B_TOP'\n",
    "Output_format='Alleles_A_B_FORWARD'\n",
    "for i in dic_file_format:\n",
    "    if dic_file_format[i][0]==Output_format:\n",
    "        pass\n",
    "    else:\n",
    "        print(\"Finish converting\")\n",
    "        bim=pd.read_csv(f'./arrays/{i}_new.bim',sep=\"\\t\",header=None)\n",
    "        bim_new=convert(i,dic_file_format[i][0],Output_format,df,bim)\n",
    "        bim_new.to_csv(f'./arrays/{i}_new.bim',header=False,index=False,sep=\"\\t\")"
   ]
  },
  {
   "cell_type": "markdown",
   "id": "1626189b",
   "metadata": {},
   "source": [
    "# Compare the difference of version's SNP position"
   ]
  },
  {
   "cell_type": "code",
   "execution_count": 34,
   "id": "0ee8ed26",
   "metadata": {},
   "outputs": [],
   "source": [
    "def correspond(x):\n",
    "    if x[\"chromosome_x\"]==x[\"chromosome_y\"]:\n",
    "        if x[\"position_x\"]==x[\"position_y\"]:\n",
    "            return \"T\"\n",
    "        else:\n",
    "            return \"F\"\n",
    "    else:\n",
    "        return \"F\"\n",
    "df[\"whether correspond\"]=df.apply(correspond,axis=1)"
   ]
  },
  {
   "cell_type": "code",
   "execution_count": 48,
   "id": "c9e44f25",
   "metadata": {},
   "outputs": [],
   "source": [
    "temp=df[df[\"whether correspond\"]==\"F\"]"
   ]
  },
  {
   "cell_type": "code",
   "execution_count": 51,
   "id": "8672e77f",
   "metadata": {},
   "outputs": [
    {
     "data": {
      "text/html": [
       "<div>\n",
       "<style scoped>\n",
       "    .dataframe tbody tr th:only-of-type {\n",
       "        vertical-align: middle;\n",
       "    }\n",
       "\n",
       "    .dataframe tbody tr th {\n",
       "        vertical-align: top;\n",
       "    }\n",
       "\n",
       "    .dataframe thead th {\n",
       "        text-align: right;\n",
       "    }\n",
       "</style>\n",
       "<table border=\"1\" class=\"dataframe\">\n",
       "  <thead>\n",
       "    <tr style=\"text-align: right;\">\n",
       "      <th></th>\n",
       "      <th>chip_name_x</th>\n",
       "      <th>rs_x</th>\n",
       "      <th>chromosome_x</th>\n",
       "      <th>position_x</th>\n",
       "      <th>SNP_name</th>\n",
       "      <th>chip_name_y</th>\n",
       "      <th>rs_y</th>\n",
       "      <th>chromosome_y</th>\n",
       "      <th>position_y</th>\n",
       "      <th>whether correspond</th>\n",
       "    </tr>\n",
       "  </thead>\n",
       "  <tbody>\n",
       "    <tr>\n",
       "      <th>49466</th>\n",
       "      <td>Pig_Illu60Kv1</td>\n",
       "      <td>rs80894900</td>\n",
       "      <td>99</td>\n",
       "      <td>0.0</td>\n",
       "      <td>ALGA0010261</td>\n",
       "      <td>NaN</td>\n",
       "      <td>NaN</td>\n",
       "      <td>NaN</td>\n",
       "      <td>NaN</td>\n",
       "      <td>F</td>\n",
       "    </tr>\n",
       "    <tr>\n",
       "      <th>49485</th>\n",
       "      <td>Pig_Illu60Kv1</td>\n",
       "      <td>rs80920939</td>\n",
       "      <td>99</td>\n",
       "      <td>0.0</td>\n",
       "      <td>ASGA0002183</td>\n",
       "      <td>NaN</td>\n",
       "      <td>NaN</td>\n",
       "      <td>NaN</td>\n",
       "      <td>NaN</td>\n",
       "      <td>F</td>\n",
       "    </tr>\n",
       "    <tr>\n",
       "      <th>49495</th>\n",
       "      <td>Pig_Illu60Kv1</td>\n",
       "      <td>rs80937102</td>\n",
       "      <td>99</td>\n",
       "      <td>0.0</td>\n",
       "      <td>ASGA0004474</td>\n",
       "      <td>NaN</td>\n",
       "      <td>NaN</td>\n",
       "      <td>NaN</td>\n",
       "      <td>NaN</td>\n",
       "      <td>F</td>\n",
       "    </tr>\n",
       "    <tr>\n",
       "      <th>49530</th>\n",
       "      <td>Pig_Illu60Kv1</td>\n",
       "      <td>rs80976074</td>\n",
       "      <td>99</td>\n",
       "      <td>0.0</td>\n",
       "      <td>ALGA0008942</td>\n",
       "      <td>NaN</td>\n",
       "      <td>NaN</td>\n",
       "      <td>NaN</td>\n",
       "      <td>NaN</td>\n",
       "      <td>F</td>\n",
       "    </tr>\n",
       "    <tr>\n",
       "      <th>49592</th>\n",
       "      <td>Pig_Illu60Kv1</td>\n",
       "      <td>rs81348331</td>\n",
       "      <td>99</td>\n",
       "      <td>0.0</td>\n",
       "      <td>ALGA0001100</td>\n",
       "      <td>NaN</td>\n",
       "      <td>NaN</td>\n",
       "      <td>NaN</td>\n",
       "      <td>NaN</td>\n",
       "      <td>F</td>\n",
       "    </tr>\n",
       "    <tr>\n",
       "      <th>...</th>\n",
       "      <td>...</td>\n",
       "      <td>...</td>\n",
       "      <td>...</td>\n",
       "      <td>...</td>\n",
       "      <td>...</td>\n",
       "      <td>...</td>\n",
       "      <td>...</td>\n",
       "      <td>...</td>\n",
       "      <td>...</td>\n",
       "      <td>...</td>\n",
       "    </tr>\n",
       "    <tr>\n",
       "      <th>60521</th>\n",
       "      <td>Pig_Illu60Kv1</td>\n",
       "      <td>rs81341098</td>\n",
       "      <td>99</td>\n",
       "      <td>0.0</td>\n",
       "      <td>ALGA0112495</td>\n",
       "      <td>NaN</td>\n",
       "      <td>NaN</td>\n",
       "      <td>NaN</td>\n",
       "      <td>NaN</td>\n",
       "      <td>F</td>\n",
       "    </tr>\n",
       "    <tr>\n",
       "      <th>60609</th>\n",
       "      <td>Pig_Illu60Kv1</td>\n",
       "      <td>rs81342473</td>\n",
       "      <td>99</td>\n",
       "      <td>0.0</td>\n",
       "      <td>ALGA0113663</td>\n",
       "      <td>NaN</td>\n",
       "      <td>NaN</td>\n",
       "      <td>NaN</td>\n",
       "      <td>NaN</td>\n",
       "      <td>F</td>\n",
       "    </tr>\n",
       "    <tr>\n",
       "      <th>60620</th>\n",
       "      <td>Pig_Illu60Kv1</td>\n",
       "      <td>rs81266480</td>\n",
       "      <td>99</td>\n",
       "      <td>0.0</td>\n",
       "      <td>MARC0083084</td>\n",
       "      <td>NaN</td>\n",
       "      <td>NaN</td>\n",
       "      <td>NaN</td>\n",
       "      <td>NaN</td>\n",
       "      <td>F</td>\n",
       "    </tr>\n",
       "    <tr>\n",
       "      <th>60676</th>\n",
       "      <td>Pig_Illu60Kv1</td>\n",
       "      <td>NaN</td>\n",
       "      <td>99</td>\n",
       "      <td>0.0</td>\n",
       "      <td>DRGA0007336</td>\n",
       "      <td>NaN</td>\n",
       "      <td>NaN</td>\n",
       "      <td>NaN</td>\n",
       "      <td>NaN</td>\n",
       "      <td>F</td>\n",
       "    </tr>\n",
       "    <tr>\n",
       "      <th>60721</th>\n",
       "      <td>Pig_Illu60Kv1</td>\n",
       "      <td>rs81398128</td>\n",
       "      <td>99</td>\n",
       "      <td>0.0</td>\n",
       "      <td>ALGA0042644</td>\n",
       "      <td>NaN</td>\n",
       "      <td>NaN</td>\n",
       "      <td>NaN</td>\n",
       "      <td>NaN</td>\n",
       "      <td>F</td>\n",
       "    </tr>\n",
       "  </tbody>\n",
       "</table>\n",
       "<p>209 rows × 10 columns</p>\n",
       "</div>"
      ],
      "text/plain": [
       "         chip_name_x        rs_x chromosome_x  position_x     SNP_name  \\\n",
       "49466  Pig_Illu60Kv1  rs80894900           99         0.0  ALGA0010261   \n",
       "49485  Pig_Illu60Kv1  rs80920939           99         0.0  ASGA0002183   \n",
       "49495  Pig_Illu60Kv1  rs80937102           99         0.0  ASGA0004474   \n",
       "49530  Pig_Illu60Kv1  rs80976074           99         0.0  ALGA0008942   \n",
       "49592  Pig_Illu60Kv1  rs81348331           99         0.0  ALGA0001100   \n",
       "...              ...         ...          ...         ...          ...   \n",
       "60521  Pig_Illu60Kv1  rs81341098           99         0.0  ALGA0112495   \n",
       "60609  Pig_Illu60Kv1  rs81342473           99         0.0  ALGA0113663   \n",
       "60620  Pig_Illu60Kv1  rs81266480           99         0.0  MARC0083084   \n",
       "60676  Pig_Illu60Kv1         NaN           99         0.0  DRGA0007336   \n",
       "60721  Pig_Illu60Kv1  rs81398128           99         0.0  ALGA0042644   \n",
       "\n",
       "      chip_name_y rs_y chromosome_y  position_y whether correspond  \n",
       "49466         NaN  NaN          NaN         NaN                  F  \n",
       "49485         NaN  NaN          NaN         NaN                  F  \n",
       "49495         NaN  NaN          NaN         NaN                  F  \n",
       "49530         NaN  NaN          NaN         NaN                  F  \n",
       "49592         NaN  NaN          NaN         NaN                  F  \n",
       "...           ...  ...          ...         ...                ...  \n",
       "60521         NaN  NaN          NaN         NaN                  F  \n",
       "60609         NaN  NaN          NaN         NaN                  F  \n",
       "60620         NaN  NaN          NaN         NaN                  F  \n",
       "60676         NaN  NaN          NaN         NaN                  F  \n",
       "60721         NaN  NaN          NaN         NaN                  F  \n",
       "\n",
       "[209 rows x 10 columns]"
      ]
     },
     "execution_count": 51,
     "metadata": {},
     "output_type": "execute_result"
    }
   ],
   "source": [
    "temp[temp[\"chromosome_x\"]!=\"99\"]"
   ]
  },
  {
   "cell_type": "code",
   "execution_count": null,
   "id": "63260f8e",
   "metadata": {},
   "outputs": [],
   "source": [
    "# 60k chip v1 and v2's intersection don't have difference on chromosome and position"
   ]
  },
  {
   "cell_type": "markdown",
   "id": "7df6e9be",
   "metadata": {},
   "source": [
    "# compare dryad905qfttnc_new.bim and dryad905qfttnc_converted.bim"
   ]
  },
  {
   "cell_type": "code",
   "execution_count": 496,
   "id": "643d4b9d",
   "metadata": {},
   "outputs": [],
   "source": [
    "bim=pd.read_csv(f'./arrays/dryad905qfttnc_new.bim',sep=\"\\t\",header=None)"
   ]
  },
  {
   "cell_type": "code",
   "execution_count": 497,
   "id": "f5124339",
   "metadata": {},
   "outputs": [],
   "source": [
    "bim2=pd.read_csv(f'./arrays/dryad905qfttnc_converted.bim',sep=\"\\t\",header=None)"
   ]
  },
  {
   "cell_type": "code",
   "execution_count": 505,
   "id": "e2285f9c",
   "metadata": {},
   "outputs": [
    {
     "data": {
      "text/plain": [
       "0        MARC0044150\n",
       "1        ASGA0000014\n",
       "2        ASGA0000021\n",
       "3        ALGA0000009\n",
       "4        ALGA0000014\n",
       "            ...     \n",
       "47866    CASI0001308\n",
       "47867    ASGA0080449\n",
       "47868    M1GA0023446\n",
       "47869    ALGA0120811\n",
       "47870    ALGA0104570\n",
       "Name: 1, Length: 47871, dtype: object"
      ]
     },
     "execution_count": 505,
     "metadata": {},
     "output_type": "execute_result"
    }
   ],
   "source": [
    "bim[1]"
   ]
  },
  {
   "cell_type": "code",
   "execution_count": 506,
   "id": "4e55178b",
   "metadata": {},
   "outputs": [
    {
     "data": {
      "text/plain": [
       "0        ASGA0000014\n",
       "1        ALGA0000009\n",
       "2        ALGA0000014\n",
       "3        H3GA0000032\n",
       "4        INRA0000015\n",
       "            ...     \n",
       "47866    DRGA0017057\n",
       "47867    ALGA0119800\n",
       "47868    ASGA0090395\n",
       "47869    MARC0056150\n",
       "47870    MARC0112864\n",
       "Name: 1, Length: 47871, dtype: object"
      ]
     },
     "execution_count": 506,
     "metadata": {},
     "output_type": "execute_result"
    }
   ],
   "source": [
    "bim2[1]"
   ]
  },
  {
   "cell_type": "code",
   "execution_count": 516,
   "id": "636e5599",
   "metadata": {},
   "outputs": [],
   "source": [
    "df=pd.merge(bim,bim2,how=\"outer\",on=1)"
   ]
  },
  {
   "cell_type": "code",
   "execution_count": 520,
   "id": "669c1bbe",
   "metadata": {},
   "outputs": [
    {
     "data": {
      "text/html": [
       "<div>\n",
       "<style scoped>\n",
       "    .dataframe tbody tr th:only-of-type {\n",
       "        vertical-align: middle;\n",
       "    }\n",
       "\n",
       "    .dataframe tbody tr th {\n",
       "        vertical-align: top;\n",
       "    }\n",
       "\n",
       "    .dataframe thead th {\n",
       "        text-align: right;\n",
       "    }\n",
       "</style>\n",
       "<table border=\"1\" class=\"dataframe\">\n",
       "  <thead>\n",
       "    <tr style=\"text-align: right;\">\n",
       "      <th></th>\n",
       "      <th>0_x</th>\n",
       "      <th>1</th>\n",
       "      <th>2_x</th>\n",
       "      <th>3_x</th>\n",
       "      <th>4_x</th>\n",
       "      <th>5_x</th>\n",
       "      <th>0_y</th>\n",
       "      <th>2_y</th>\n",
       "      <th>3_y</th>\n",
       "      <th>4_y</th>\n",
       "      <th>5_y</th>\n",
       "    </tr>\n",
       "  </thead>\n",
       "  <tbody>\n",
       "    <tr>\n",
       "      <th>0</th>\n",
       "      <td>MT</td>\n",
       "      <td>MARC0044150</td>\n",
       "      <td>0</td>\n",
       "      <td>0</td>\n",
       "      <td>T</td>\n",
       "      <td>C</td>\n",
       "      <td>26</td>\n",
       "      <td>0</td>\n",
       "      <td>0</td>\n",
       "      <td>T</td>\n",
       "      <td>C</td>\n",
       "    </tr>\n",
       "    <tr>\n",
       "      <th>1</th>\n",
       "      <td>1</td>\n",
       "      <td>ASGA0000014</td>\n",
       "      <td>0</td>\n",
       "      <td>342481</td>\n",
       "      <td>A</td>\n",
       "      <td>C</td>\n",
       "      <td>1</td>\n",
       "      <td>0</td>\n",
       "      <td>342481</td>\n",
       "      <td>A</td>\n",
       "      <td>C</td>\n",
       "    </tr>\n",
       "    <tr>\n",
       "      <th>2</th>\n",
       "      <td>99</td>\n",
       "      <td>ASGA0000021</td>\n",
       "      <td>0</td>\n",
       "      <td>0</td>\n",
       "      <td>G</td>\n",
       "      <td>T</td>\n",
       "      <td>26</td>\n",
       "      <td>0</td>\n",
       "      <td>0</td>\n",
       "      <td>G</td>\n",
       "      <td>T</td>\n",
       "    </tr>\n",
       "    <tr>\n",
       "      <th>3</th>\n",
       "      <td>1</td>\n",
       "      <td>ALGA0000009</td>\n",
       "      <td>0</td>\n",
       "      <td>538161</td>\n",
       "      <td>A</td>\n",
       "      <td>G</td>\n",
       "      <td>1</td>\n",
       "      <td>0</td>\n",
       "      <td>538161</td>\n",
       "      <td>A</td>\n",
       "      <td>G</td>\n",
       "    </tr>\n",
       "    <tr>\n",
       "      <th>4</th>\n",
       "      <td>1</td>\n",
       "      <td>ALGA0000014</td>\n",
       "      <td>0</td>\n",
       "      <td>565627</td>\n",
       "      <td>T</td>\n",
       "      <td>C</td>\n",
       "      <td>1</td>\n",
       "      <td>0</td>\n",
       "      <td>565627</td>\n",
       "      <td>T</td>\n",
       "      <td>C</td>\n",
       "    </tr>\n",
       "    <tr>\n",
       "      <th>...</th>\n",
       "      <td>...</td>\n",
       "      <td>...</td>\n",
       "      <td>...</td>\n",
       "      <td>...</td>\n",
       "      <td>...</td>\n",
       "      <td>...</td>\n",
       "      <td>...</td>\n",
       "      <td>...</td>\n",
       "      <td>...</td>\n",
       "      <td>...</td>\n",
       "      <td>...</td>\n",
       "    </tr>\n",
       "    <tr>\n",
       "      <th>47866</th>\n",
       "      <td>18</td>\n",
       "      <td>CASI0001308</td>\n",
       "      <td>0</td>\n",
       "      <td>60484331</td>\n",
       "      <td>T</td>\n",
       "      <td>C</td>\n",
       "      <td>18</td>\n",
       "      <td>0</td>\n",
       "      <td>60484331</td>\n",
       "      <td>T</td>\n",
       "      <td>C</td>\n",
       "    </tr>\n",
       "    <tr>\n",
       "      <th>47867</th>\n",
       "      <td>18</td>\n",
       "      <td>ASGA0080449</td>\n",
       "      <td>0</td>\n",
       "      <td>60518659</td>\n",
       "      <td>T</td>\n",
       "      <td>C</td>\n",
       "      <td>18</td>\n",
       "      <td>0</td>\n",
       "      <td>60518659</td>\n",
       "      <td>T</td>\n",
       "      <td>C</td>\n",
       "    </tr>\n",
       "    <tr>\n",
       "      <th>47868</th>\n",
       "      <td>18</td>\n",
       "      <td>M1GA0023446</td>\n",
       "      <td>0</td>\n",
       "      <td>60537055</td>\n",
       "      <td>A</td>\n",
       "      <td>C</td>\n",
       "      <td>18</td>\n",
       "      <td>0</td>\n",
       "      <td>60537055</td>\n",
       "      <td>A</td>\n",
       "      <td>C</td>\n",
       "    </tr>\n",
       "    <tr>\n",
       "      <th>47869</th>\n",
       "      <td>18</td>\n",
       "      <td>ALGA0120811</td>\n",
       "      <td>0</td>\n",
       "      <td>60805322</td>\n",
       "      <td>G</td>\n",
       "      <td>A</td>\n",
       "      <td>18</td>\n",
       "      <td>0</td>\n",
       "      <td>60805322</td>\n",
       "      <td>G</td>\n",
       "      <td>A</td>\n",
       "    </tr>\n",
       "    <tr>\n",
       "      <th>47870</th>\n",
       "      <td>18</td>\n",
       "      <td>ALGA0104570</td>\n",
       "      <td>0</td>\n",
       "      <td>60911033</td>\n",
       "      <td>G</td>\n",
       "      <td>A</td>\n",
       "      <td>18</td>\n",
       "      <td>0</td>\n",
       "      <td>60911033</td>\n",
       "      <td>G</td>\n",
       "      <td>A</td>\n",
       "    </tr>\n",
       "  </tbody>\n",
       "</table>\n",
       "<p>47871 rows × 11 columns</p>\n",
       "</div>"
      ],
      "text/plain": [
       "      0_x            1  2_x       3_x 4_x 5_x  0_y  2_y       3_y 4_y 5_y\n",
       "0      MT  MARC0044150    0         0   T   C   26    0         0   T   C\n",
       "1       1  ASGA0000014    0    342481   A   C    1    0    342481   A   C\n",
       "2      99  ASGA0000021    0         0   G   T   26    0         0   G   T\n",
       "3       1  ALGA0000009    0    538161   A   G    1    0    538161   A   G\n",
       "4       1  ALGA0000014    0    565627   T   C    1    0    565627   T   C\n",
       "...    ..          ...  ...       ...  ..  ..  ...  ...       ...  ..  ..\n",
       "47866  18  CASI0001308    0  60484331   T   C   18    0  60484331   T   C\n",
       "47867  18  ASGA0080449    0  60518659   T   C   18    0  60518659   T   C\n",
       "47868  18  M1GA0023446    0  60537055   A   C   18    0  60537055   A   C\n",
       "47869  18  ALGA0120811    0  60805322   G   A   18    0  60805322   G   A\n",
       "47870  18  ALGA0104570    0  60911033   G   A   18    0  60911033   G   A\n",
       "\n",
       "[47871 rows x 11 columns]"
      ]
     },
     "execution_count": 520,
     "metadata": {},
     "output_type": "execute_result"
    }
   ],
   "source": [
    "df"
   ]
  },
  {
   "cell_type": "code",
   "execution_count": 518,
   "id": "46962ccd",
   "metadata": {},
   "outputs": [
    {
     "data": {
      "text/plain": [
       "0"
      ]
     },
     "execution_count": 518,
     "metadata": {},
     "output_type": "execute_result"
    }
   ],
   "source": [
    "np.sum(df.apply(lambda x : 0 if x[\"4_x\"] ==x[\"4_y\"]  else 1, axis=1))"
   ]
  },
  {
   "cell_type": "code",
   "execution_count": 519,
   "id": "ef522b36",
   "metadata": {},
   "outputs": [
    {
     "data": {
      "text/plain": [
       "0"
      ]
     },
     "execution_count": 519,
     "metadata": {},
     "output_type": "execute_result"
    }
   ],
   "source": [
    "np.sum(df.apply(lambda x : 0 if x[\"5_x\"] ==x[\"5_y\"]  else 1, axis=1))"
   ]
  },
  {
   "cell_type": "code",
   "execution_count": null,
   "id": "ba053897",
   "metadata": {},
   "outputs": [],
   "source": []
  }
 ],
 "metadata": {
  "kernelspec": {
   "display_name": "Python 3 (ipykernel)",
   "language": "python",
   "name": "python3"
  },
  "language_info": {
   "codemirror_mode": {
    "name": "ipython",
    "version": 3
   },
   "file_extension": ".py",
   "mimetype": "text/x-python",
   "name": "python",
   "nbconvert_exporter": "python",
   "pygments_lexer": "ipython3",
   "version": "3.11.5"
  }
 },
 "nbformat": 4,
 "nbformat_minor": 5
}
